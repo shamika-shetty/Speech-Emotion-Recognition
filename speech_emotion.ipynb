{
 "cells": [
  {
   "cell_type": "markdown",
   "id": "7c21a0c6",
   "metadata": {},
   "source": [
    "# Speech Emotion Recognition, is the act of attempting to recognize human emotion and affective states from speech."
   ]
  },
  {
   "cell_type": "markdown",
   "id": "10d31cae",
   "metadata": {},
   "source": [
    "#### Here we use Librosa ,it is a Python package for music and audio analysis. Librosa is basically used when we work with audio data like in music generation, Automatic Speech Recognition"
   ]
  },
  {
   "cell_type": "code",
   "execution_count": 1,
   "id": "f924c9ab",
   "metadata": {},
   "outputs": [],
   "source": [
    "# import required libraries\n",
    "import librosa\n",
    "import os  \n",
    "import soundfile\n",
    "import glob, pickle\n",
    "import numpy as np\n",
    "from sklearn.model_selection import train_test_split\n",
    "from sklearn.neural_network import MLPClassifier\n",
    "from sklearn.metrics import accuracy_score"
   ]
  },
  {
   "cell_type": "code",
   "execution_count": 2,
   "id": "b0019c3c",
   "metadata": {},
   "outputs": [],
   "source": [
    "# to ignore warnings\n",
    "import warnings\n",
    "warnings.filterwarnings(\"ignore\")"
   ]
  },
  {
   "cell_type": "markdown",
   "id": "addee208",
   "metadata": {},
   "source": [
    "#### Define the function to extract important fetures from the audio clip. this function mainly extracts three features :\n",
    "#### mfcc: Mel Frequency Cepstral Coefficient, represents the short-term power spectrum of a sound  \n",
    "#### chroma: Pertains to the 12 different pitch classes \n",
    "#### mel: Mel Spectrogram Frequency"
   ]
  },
  {
   "cell_type": "code",
   "execution_count": 3,
   "id": "a74b9cae",
   "metadata": {},
   "outputs": [],
   "source": [
    "def extract_feature(file_name, mfcc, chroma, mel):\n",
    "    with soundfile.SoundFile(file_name) as sound_file:\n",
    "        X = sound_file.read(dtype=\"float32\")\n",
    "        sample_rate=sound_file.samplerate\n",
    "        if chroma:\n",
    "            stft=np.abs(librosa.stft(X))\n",
    "        result=np.array([])\n",
    "        if mfcc:\n",
    "            mfccs=np.mean(librosa.feature.mfcc(y=X, sr=sample_rate, n_mfcc=40).T, axis=0)\n",
    "            result=np.hstack((result, mfccs))\n",
    "        if chroma:\n",
    "            chroma=np.mean(librosa.feature.chroma_stft(S=stft, sr=sample_rate).T,axis=0)\n",
    "            result=np.hstack((result, chroma))\n",
    "        if mel:\n",
    "            mel=np.mean(librosa.feature.melspectrogram(X, sr=sample_rate).T,axis=0)\n",
    "            result=np.hstack((result, mel))\n",
    "    return result"
   ]
  },
  {
   "cell_type": "markdown",
   "id": "d1da944c",
   "metadata": {},
   "source": [
    "#### Let’s define a dictionary to hold numbers and the emotions available in the RAVDESS dataset, and a list to hold those we want are : 'CALM' , 'HAPPY' , 'SAD' , 'ANGRY'"
   ]
  },
  {
   "cell_type": "code",
   "execution_count": 4,
   "id": "c64472dd",
   "metadata": {},
   "outputs": [],
   "source": [
    "emotions={\n",
    "  '01':'neutral',\n",
    "  '02':'calm',\n",
    "  '03':'happy',\n",
    "  '04':'sad',\n",
    "  '05':'angry',\n",
    "  '06':'fearful',\n",
    "  '07':'disgust',\n",
    "  '08':'surprised'\n",
    "}\n",
    "\n",
    "emotion_observed=['calm', 'happy','fearful','angry']"
   ]
  },
  {
   "cell_type": "markdown",
   "id": "b58087f9",
   "metadata": {},
   "source": [
    "#### Load the audio file from the respective path and then identify observed emotions and then extract features "
   ]
  },
  {
   "cell_type": "code",
   "execution_count": 18,
   "id": "3161e6e8",
   "metadata": {},
   "outputs": [],
   "source": [
    "def load_data(test_size=0.25):\n",
    "    x,y=[],[]\n",
    "    for file in glob.glob(\"C:\\\\Users\\\\Shamikarani\\\\Downloads\\\\Speech\\\\Actor_*\\\\*.wav\"):\n",
    "        file_name=os.path.basename(file)\n",
    "        emotion=emotions[file_name.split(\"-\")[2]]\n",
    "        if emotion not in emotion_observed:\n",
    "            continue\n",
    "        feature=extract_feature(file, mfcc=True, chroma=True, mel=True)\n",
    "        x.append(feature)\n",
    "        y.append(emotion)\n",
    "    return train_test_split(np.array(x), y, test_size=test_size, random_state=9)"
   ]
  },
  {
   "cell_type": "code",
   "execution_count": 19,
   "id": "2ad8329e",
   "metadata": {},
   "outputs": [],
   "source": [
    "#Split the data to train and test \n",
    "x_train,x_test,y_train,y_test=load_data(test_size=0.25)"
   ]
  },
  {
   "cell_type": "code",
   "execution_count": 20,
   "id": "5ad20e44",
   "metadata": {},
   "outputs": [
    {
     "name": "stdout",
     "output_type": "stream",
     "text": [
      "(576, 192)\n"
     ]
    }
   ],
   "source": [
    "# Shape of the training and test datasets\n",
    "print((x_train.shape[0], x_test.shape[0]))"
   ]
  },
  {
   "cell_type": "code",
   "execution_count": 21,
   "id": "3e6c54c7",
   "metadata": {},
   "outputs": [
    {
     "name": "stdout",
     "output_type": "stream",
     "text": [
      "Features extracted: {x_train.shape[1]}\n"
     ]
    }
   ],
   "source": [
    "# Number of feature extracted from audio clip \n",
    "print('Features extracted: {x_train.shape[1]}')"
   ]
  },
  {
   "cell_type": "code",
   "execution_count": 22,
   "id": "9b2b8972",
   "metadata": {},
   "outputs": [
    {
     "data": {
      "text/plain": [
       "array([[-4.69444733e+02,  2.90473537e+01, -3.08719521e+01, ...,\n",
       "         1.14944436e-04,  3.68020883e-05,  1.24055823e-05],\n",
       "       [-5.78170044e+02,  5.42816353e+01,  4.19424200e+00, ...,\n",
       "         4.20206983e-04,  1.69682709e-04,  5.22450318e-05],\n",
       "       [-6.50705750e+02,  5.30211639e+01, -4.92040443e+00, ...,\n",
       "         4.75216802e-05,  3.46632514e-05,  1.62844426e-05],\n",
       "       ...,\n",
       "       [-3.68174896e+02,  1.21515379e+01, -4.14459991e+01, ...,\n",
       "         5.45278145e-03,  3.56062246e-03,  2.32826290e-03],\n",
       "       [-4.71690521e+02,  3.68995361e+01, -6.17963743e+00, ...,\n",
       "         4.36597358e-04,  2.39399364e-04,  1.13478207e-04],\n",
       "       [-4.19084900e+02,  2.58726368e+01, -2.53285732e+01, ...,\n",
       "         7.43104727e-04,  6.09643641e-04,  3.89780820e-04]])"
      ]
     },
     "execution_count": 22,
     "metadata": {},
     "output_type": "execute_result"
    }
   ],
   "source": [
    "x_train"
   ]
  },
  {
   "cell_type": "markdown",
   "id": "118c4f3f",
   "metadata": {},
   "source": [
    "#### Build a model using MLPClassifier( Mutli Layered Perceptron ) with best parameters"
   ]
  },
  {
   "cell_type": "code",
   "execution_count": 23,
   "id": "b352f6db",
   "metadata": {},
   "outputs": [],
   "source": [
    "model=MLPClassifier(alpha=0.03, batch_size=350, epsilon=1e-09, hidden_layer_sizes=(330,), learning_rate='adaptive', max_iter=550,activation='relu')"
   ]
  },
  {
   "cell_type": "code",
   "execution_count": 24,
   "id": "8ff986d1",
   "metadata": {},
   "outputs": [
    {
     "data": {
      "text/plain": [
       "MLPClassifier(alpha=0.03, batch_size=350, epsilon=1e-09,\n",
       "              hidden_layer_sizes=(330,), learning_rate='adaptive',\n",
       "              max_iter=550)"
      ]
     },
     "execution_count": 24,
     "metadata": {},
     "output_type": "execute_result"
    }
   ],
   "source": [
    "#Train the model\n",
    "model.fit(x_train,y_train)"
   ]
  },
  {
   "cell_type": "code",
   "execution_count": 25,
   "id": "20023cf3",
   "metadata": {},
   "outputs": [],
   "source": [
    "# Prediction on test data set\n",
    "y_pred=model.predict(x_test)"
   ]
  },
  {
   "cell_type": "code",
   "execution_count": 26,
   "id": "a832a176",
   "metadata": {},
   "outputs": [
    {
     "data": {
      "text/plain": [
       "array(['happy', 'calm', 'happy', 'happy', 'fearful', 'calm', 'calm',\n",
       "       'angry', 'angry', 'happy', 'happy', 'fearful', 'fearful', 'happy',\n",
       "       'fearful', 'angry', 'calm', 'happy', 'fearful', 'fearful', 'angry',\n",
       "       'fearful', 'fearful', 'calm', 'happy', 'angry', 'fearful',\n",
       "       'fearful', 'fearful', 'fearful', 'happy', 'fearful', 'happy',\n",
       "       'happy', 'angry', 'calm', 'calm', 'angry', 'calm', 'calm', 'happy',\n",
       "       'fearful', 'calm', 'calm', 'fearful', 'calm', 'fearful', 'happy',\n",
       "       'calm', 'happy', 'angry', 'angry', 'angry', 'happy', 'angry',\n",
       "       'angry', 'fearful', 'happy', 'calm', 'calm', 'fearful', 'calm',\n",
       "       'happy', 'calm', 'fearful', 'calm', 'calm', 'happy', 'fearful',\n",
       "       'happy', 'angry', 'angry', 'angry', 'angry', 'angry', 'happy',\n",
       "       'angry', 'happy', 'calm', 'fearful', 'fearful', 'calm', 'happy',\n",
       "       'calm', 'fearful', 'angry', 'fearful', 'fearful', 'fearful',\n",
       "       'angry', 'fearful', 'fearful', 'calm', 'happy', 'fearful', 'angry',\n",
       "       'calm', 'calm', 'calm', 'calm', 'angry', 'fearful', 'fearful',\n",
       "       'angry', 'fearful', 'calm', 'fearful', 'happy', 'happy', 'happy',\n",
       "       'happy', 'calm', 'calm', 'happy', 'happy', 'calm', 'angry',\n",
       "       'happy', 'calm', 'angry', 'calm', 'happy', 'calm', 'happy',\n",
       "       'angry', 'calm', 'fearful', 'angry', 'calm', 'calm', 'angry',\n",
       "       'angry', 'happy', 'happy', 'fearful', 'angry', 'angry', 'calm',\n",
       "       'fearful', 'happy', 'calm', 'happy', 'fearful', 'fearful', 'happy',\n",
       "       'angry', 'angry', 'fearful', 'happy', 'calm', 'happy', 'fearful',\n",
       "       'happy', 'angry', 'fearful', 'happy', 'calm', 'fearful', 'calm',\n",
       "       'calm', 'fearful', 'calm', 'happy', 'calm', 'calm', 'angry',\n",
       "       'fearful', 'happy', 'calm', 'happy', 'happy', 'happy', 'fearful',\n",
       "       'angry', 'happy', 'angry', 'calm', 'angry', 'happy', 'happy',\n",
       "       'fearful', 'fearful', 'calm', 'calm', 'calm', 'fearful', 'happy',\n",
       "       'angry', 'angry', 'angry', 'fearful', 'calm'], dtype='<U7')"
      ]
     },
     "execution_count": 26,
     "metadata": {},
     "output_type": "execute_result"
    }
   ],
   "source": [
    "y_pred"
   ]
  },
  {
   "cell_type": "code",
   "execution_count": 27,
   "id": "4030f57c",
   "metadata": {},
   "outputs": [
    {
     "name": "stdout",
     "output_type": "stream",
     "text": [
      "Accuracy: 81.25%\n"
     ]
    }
   ],
   "source": [
    "# calculate the accuracy \n",
    "accuracy=accuracy_score(y_true=y_test, y_pred=y_pred)\n",
    "\n",
    "print(\"Accuracy: {:.2f}%\".format(accuracy*100))"
   ]
  },
  {
   "cell_type": "markdown",
   "id": "92d6bf1b",
   "metadata": {},
   "source": [
    "### Save the model using pickle "
   ]
  },
  {
   "cell_type": "code",
   "execution_count": 28,
   "id": "cb0a6a33",
   "metadata": {},
   "outputs": [],
   "source": [
    "import pickle"
   ]
  },
  {
   "cell_type": "code",
   "execution_count": 29,
   "id": "a963549a",
   "metadata": {},
   "outputs": [],
   "source": [
    "filename = \"Speech_emotion\"\n",
    "pickle.dump(model,open(filename,'wb'))"
   ]
  },
  {
   "cell_type": "code",
   "execution_count": 30,
   "id": "a51ac981",
   "metadata": {},
   "outputs": [
    {
     "name": "stdout",
     "output_type": "stream",
     "text": [
      "Accurcy is :  81.25\n"
     ]
    }
   ],
   "source": [
    "load_model = pickle.load(open(filename,\"rb\"))\n",
    "print (\"Accurcy is : \" ,(load_model.score(x_test,y_test))*100)"
   ]
  }
 ],
 "metadata": {
  "kernelspec": {
   "display_name": "Python 3 (ipykernel)",
   "language": "python",
   "name": "python3"
  },
  "language_info": {
   "codemirror_mode": {
    "name": "ipython",
    "version": 3
   },
   "file_extension": ".py",
   "mimetype": "text/x-python",
   "name": "python",
   "nbconvert_exporter": "python",
   "pygments_lexer": "ipython3",
   "version": "3.9.12"
  }
 },
 "nbformat": 4,
 "nbformat_minor": 5
}
